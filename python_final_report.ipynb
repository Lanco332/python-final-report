{
  "nbformat": 4,
  "nbformat_minor": 0,
  "metadata": {
    "colab": {
      "provenance": [],
      "authorship_tag": "ABX9TyMq2GghS/hq1qtwap54pVIN",
      "include_colab_link": true
    },
    "kernelspec": {
      "name": "python3",
      "display_name": "Python 3"
    },
    "language_info": {
      "name": "python"
    }
  },
  "cells": [
    {
      "cell_type": "markdown",
      "metadata": {
        "id": "view-in-github",
        "colab_type": "text"
      },
      "source": [
        "<a href=\"https://colab.research.google.com/github/Lanco332/python-final-report/blob/main/python_final_report.ipynb\" target=\"_parent\"><img src=\"https://colab.research.google.com/assets/colab-badge.svg\" alt=\"Open In Colab\"/></a>"
      ]
    },
    {
      "cell_type": "code",
      "source": [
        "#梯形的上底 abs(math.sin(x + i* dx),函數值可能為負,用abs()取其絕對值\n",
        "#梯形的下底 abs(math.sin(x + i* dx+dx)),函數值可能為負,用abs()取其絕對值\n",
        "#梯形的面積公式:(上底+下底)×高÷2,用字母表示:S=(a+c)xh÷2"
      ],
      "metadata": {
        "id": "JTDXF0Px2D3y"
      },
      "execution_count": 40,
      "outputs": []
    },
    {
      "cell_type": "code",
      "execution_count": 41,
      "metadata": {
        "id": "s5CPBmHZsNyp"
      },
      "outputs": [],
      "source": [
        "import math"
      ]
    },
    {
      "cell_type": "code",
      "source": [
        "a,b =map(float,input().split()) #輸入區間起點和終點"
      ],
      "metadata": {
        "colab": {
          "base_uri": "https://localhost:8080/"
        },
        "id": "73dr-GbYs1lf",
        "outputId": "87e4af03-0271-42d8-ad1c-cc86b67c4bd8"
      },
      "execution_count": 42,
      "outputs": [
        {
          "name": "stdout",
          "output_type": "stream",
          "text": [
            "-3.14 3.14\n"
          ]
        }
      ]
    },
    {
      "cell_type": "code",
      "source": [
        "n=int(input())          #輸入區間切分數量"
      ],
      "metadata": {
        "colab": {
          "base_uri": "https://localhost:8080/"
        },
        "id": "I2uzHhduzadG",
        "outputId": "7a0201e5-cb0d-493b-83ef-4a2c8acbaa99"
      },
      "execution_count": 43,
      "outputs": [
        {
          "name": "stdout",
          "output_type": "stream",
          "text": [
            "1000\n"
          ]
        }
      ]
    },
    {
      "cell_type": "code",
      "source": [
        "area =0         #面積初值\n",
        "x =a           #設定起點x值\n",
        "dx = abs(a-b)/n      #計算每個小區間的高度,即每個小梯形的高度"
      ],
      "metadata": {
        "id": "Uxe6yeJ7tGET"
      },
      "execution_count": 44,
      "outputs": []
    },
    {
      "cell_type": "code",
      "source": [
        "for i in range(n):  # 遍歷n個區間,計算每個小梯形面積並累加在一起\n",
        "    area = area + dx *(abs(math.sin(x+i*dx))+abs(math.sin(x+i*dx+dx)))/2"
      ],
      "metadata": {
        "id": "N4xMZHlguBSs"
      },
      "execution_count": 45,
      "outputs": []
    },
    {
      "cell_type": "code",
      "source": [
        "print(\"{:.2f}\".format(area)) #輸出面積,保留小數點後兩位"
      ],
      "metadata": {
        "colab": {
          "base_uri": "https://localhost:8080/"
        },
        "id": "rdNcShHPuejc",
        "outputId": "f0a51ca9-8097-4ef3-fae6-4da8c267c62e"
      },
      "execution_count": 46,
      "outputs": [
        {
          "output_type": "stream",
          "name": "stdout",
          "text": [
            "4.00\n"
          ]
        }
      ]
    }
  ]
}